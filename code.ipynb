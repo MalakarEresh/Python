{
  "nbformat": 4,
  "nbformat_minor": 0,
  "metadata": {
    "colab": {
      "provenance": [],
      "authorship_tag": "ABX9TyMFYDSB5wBU+Kp3W/TQpRZ7",
      "include_colab_link": true
    },
    "kernelspec": {
      "name": "python3",
      "display_name": "Python 3"
    },
    "language_info": {
      "name": "python"
    }
  },
  "cells": [
    {
      "cell_type": "markdown",
      "metadata": {
        "id": "view-in-github",
        "colab_type": "text"
      },
      "source": [
        "<a href=\"https://colab.research.google.com/github/MalakarEresh/Python/blob/main/code.ipynb\" target=\"_parent\"><img src=\"https://colab.research.google.com/assets/colab-badge.svg\" alt=\"Open In Colab\"/></a>"
      ]
    },
    {
      "cell_type": "code",
      "execution_count": 2,
      "metadata": {
        "id": "Br8Bm6Q_TDNm"
      },
      "outputs": [],
      "source": [
        "import random"
      ]
    },
    {
      "cell_type": "code",
      "source": [
        "a = 3\n",
        "b = 7\n",
        "c = 93\n",
        "N = 200000000\n",
        "n = 0\n",
        "total = 0"
      ],
      "metadata": {
        "id": "HvZs170fV501"
      },
      "execution_count": 1,
      "outputs": []
    },
    {
      "cell_type": "code",
      "source": [
        "for i in range(N):\n",
        "  x = random.uniform(a,b)\n",
        "  y = random.uniform(0,c)\n",
        "\n",
        "  if y <= 2*x**2 - 5:\n",
        "    n = n+1\n",
        "\n",
        "i = (n/N)*c*(b-a)\n",
        "\n",
        "print(i)"
      ],
      "metadata": {
        "id": "IuGEJzvFVanT"
      },
      "execution_count": null,
      "outputs": []
    },
    {
      "cell_type": "code",
      "source": [
        "for i in range(N):\n",
        "  x = random.uniform(a,b)\n",
        "  fx = 2*x**2-5\n",
        "  total += fx\n",
        "\n",
        "i = total/N*(b-a)\n",
        "\n",
        "print(i)"
      ],
      "metadata": {
        "colab": {
          "base_uri": "https://localhost:8080/"
        },
        "id": "RPBS6Sg3aOVH",
        "outputId": "48c1847b-80ae-4bc3-ee80-e0b174dc5ffa"
      },
      "execution_count": null,
      "outputs": [
        {
          "output_type": "stream",
          "name": "stdout",
          "text": [
            "190.67039825479486\n"
          ]
        }
      ]
    }
  ]
}